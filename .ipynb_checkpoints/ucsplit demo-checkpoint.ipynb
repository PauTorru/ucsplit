{
 "cells": [
  {
   "cell_type": "code",
   "execution_count": 109,
   "id": "1e6d8638-d100-493c-9a6f-996020c1ca5d",
   "metadata": {},
   "outputs": [],
   "source": [
    "import ucsplit as uc\n",
    "import ucsplit.base as ucb\n",
    "import ucsplit.creator as ucc\n",
    "\n",
    "import hyperspy.api as hs\n",
    "import matplotlib.pyplot as plt\n"
   ]
  },
  {
   "cell_type": "code",
   "execution_count": 110,
   "id": "f745a75f-e4bc-4560-8144-84b95c638e94",
   "metadata": {},
   "outputs": [],
   "source": [
    "s = hs.load(\"HAADF.dm3\")"
   ]
  },
  {
   "cell_type": "code",
   "execution_count": 111,
   "id": "30d94226-f84b-4745-9612-d4cea33f5ae9",
   "metadata": {},
   "outputs": [],
   "source": [
    "cr = ucc.Uci_Creator(s)"
   ]
  },
  {
   "cell_type": "code",
   "execution_count": 112,
   "id": "62190d2b-4810-4033-ba93-5f4219b936cc",
   "metadata": {},
   "outputs": [],
   "source": [
    "cr.markersize=2"
   ]
  },
  {
   "cell_type": "code",
   "execution_count": 113,
   "id": "bce222c4-f5c2-4d5b-9856-d40e0f7a3287",
   "metadata": {},
   "outputs": [],
   "source": [
    "cr.peak_locator(min_distance=40)"
   ]
  },
  {
   "cell_type": "code",
   "execution_count": 114,
   "id": "0ccec871-cff2-40c4-b7b7-96cf0cfeb058",
   "metadata": {},
   "outputs": [
    {
     "name": "stdout",
     "output_type": "stream",
     "text": [
      "Positions will be updated when the figure \"Atom positions\" is closed.\n",
      "Positions updated\n"
     ]
    }
   ],
   "source": [
    "cr.add_positions()"
   ]
  },
  {
   "cell_type": "code",
   "execution_count": 115,
   "id": "ac3bb89f-abd6-4c33-8e01-2eb1848ff974",
   "metadata": {},
   "outputs": [
    {
     "name": "stdout",
     "output_type": "stream",
     "text": [
      "Positions will be updated when the figure \"Atom positions\" is closed.\n",
      "Positions updated\n"
     ]
    }
   ],
   "source": [
    "cr.remove_positions()"
   ]
  },
  {
   "cell_type": "code",
   "execution_count": 118,
   "id": "b5a762be-8ca7-4e5e-b98d-1202e81ffd1b",
   "metadata": {},
   "outputs": [],
   "source": [
    "cr.plot()"
   ]
  },
  {
   "cell_type": "code",
   "execution_count": 117,
   "id": "6a71dfde-0e0b-4ef5-ae64-51aaf97add87",
   "metadata": {},
   "outputs": [
    {
     "name": "stdout",
     "output_type": "stream",
     "text": [
      "Positions updated.\n"
     ]
    }
   ],
   "source": [
    "cr.select_positions() # leave 1 uc margin at the edges of the image"
   ]
  },
  {
   "cell_type": "code",
   "execution_count": 55,
   "id": "2415b328-7f0b-4e8f-8ffe-b5d32ed8d4d0",
   "metadata": {},
   "outputs": [
    {
     "name": "stdout",
     "output_type": "stream",
     "text": [
      "clustered\n"
     ]
    }
   ],
   "source": [
    "cr.construct_zone_axes(9,eps=0.4,min_samples=15)\n",
    "#check neighbour clustering plot that pops up to chose the crystaline direction alon which to build your planes."
   ]
  },
  {
   "cell_type": "code",
   "execution_count": 56,
   "id": "25416b94-8049-4d8e-becb-8c8be584304e",
   "metadata": {},
   "outputs": [],
   "source": [
    "planes = cr.get_planes(1,8)"
   ]
  },
  {
   "cell_type": "code",
   "execution_count": 59,
   "id": "23a01922-14df-46ae-a96d-523ccb387513",
   "metadata": {},
   "outputs": [],
   "source": [
    "uci = ucb.UnitCellImage(s,planes,boundx=25,boundy=25)\n",
    "#index error if your bounds are too big or if you kept atomic columns to close to the edge of the image"
   ]
  },
  {
   "cell_type": "code",
   "execution_count": 63,
   "id": "c35ea62c-5fd4-4dcc-812c-e14322e1730c",
   "metadata": {},
   "outputs": [],
   "source": [
    "uci.plot()"
   ]
  },
  {
   "cell_type": "code",
   "execution_count": 60,
   "id": "9553d5e6-56bf-4216-bf69-cc141efa9449",
   "metadata": {},
   "outputs": [],
   "source": [
    "#define initial positions of atoms in your unit cell\n",
    "uci.define_uc_atoms()"
   ]
  },
  {
   "cell_type": "code",
   "execution_count": 61,
   "id": "d43c5c66-2e40-4dbb-b767-cb80e2989ef9",
   "metadata": {},
   "outputs": [
    {
     "name": "stdout",
     "output_type": "stream",
     "text": [
      "0 / 47\n",
      "1 / 47\n",
      "2 / 47\n",
      "3 / 47\n",
      "4 / 47\n",
      "5 / 47\n",
      "6 / 47\n",
      "7 / 47\n",
      "8 / 47\n",
      "9 / 47\n",
      "10 / 47\n",
      "11 / 47\n",
      "12 / 47\n",
      "13 / 47\n",
      "14 / 47\n",
      "15 / 47\n",
      "16 / 47\n",
      "17 / 47\n",
      "18 / 47\n",
      "19 / 47\n",
      "20 / 47\n",
      "21 / 47\n",
      "22 / 47\n",
      "23 / 47\n",
      "24 / 47\n",
      "25 / 47\n",
      "26 / 47\n",
      "27 / 47\n",
      "28 / 47\n",
      "29 / 47\n",
      "30 / 47\n",
      "31 / 47\n",
      "32 / 47\n",
      "33 / 47\n",
      "34 / 47\n",
      "35 / 47\n",
      "36 / 47\n",
      "37 / 47\n",
      "38 / 47\n",
      "39 / 47\n",
      "40 / 47\n",
      "41 / 47\n",
      "42 / 47\n",
      "43 / 47\n",
      "44 / 47\n",
      "45 / 47\n",
      "46 / 47\n"
     ]
    }
   ],
   "source": [
    "#refine by center of mass\n",
    "uci.refine_uc_atoms_com()\n"
   ]
  },
  {
   "cell_type": "code",
   "execution_count": 62,
   "id": "97f0bb3e-4519-4071-a02a-c8509b49410f",
   "metadata": {},
   "outputs": [],
   "source": [
    "#if your initial atomic column positions were not accurate, leading to poorly define unit cells:\n",
    "#recenter the unit cell to an atomic column you already refined\n",
    "uci.recenter_uc_to_atom(0)\n"
   ]
  },
  {
   "cell_type": "code",
   "execution_count": null,
   "id": "7cc8b54d-890d-44bf-bed7-c0580f0c07b9",
   "metadata": {},
   "outputs": [],
   "source": [
    "uci.plot()"
   ]
  },
  {
   "cell_type": "code",
   "execution_count": null,
   "id": "006379d4-5581-4f40-89a4-2a32d3a31e0b",
   "metadata": {},
   "outputs": [],
   "source": [
    "uci.define_uc_atoms()"
   ]
  },
  {
   "cell_type": "code",
   "execution_count": null,
   "id": "af73eec1-191e-409b-b322-9c5ed8920de2",
   "metadata": {},
   "outputs": [],
   "source": [
    "uci.refine_uc_atoms_com()"
   ]
  },
  {
   "cell_type": "code",
   "execution_count": null,
   "id": "44c248f2-addb-47bb-94c9-30628d347e69",
   "metadata": {},
   "outputs": [],
   "source": [
    "uci.refine_uc_atoms_2dgauss(model=\"full2d\")\n",
    "#suports : round atoms (sigma_x=sigma_y, \"default mode\"), sigma_x!=sigma_y \"full2d\", sigma_x!=sigma_y +rotation \"full2d_rotation\"\n",
    "# bounds on all parameters can also be supplied. see scipy.optimize.curve_fit for the format"
   ]
  },
  {
   "cell_type": "code",
   "execution_count": null,
   "id": "05122578-ac4b-4089-976c-93f23cab3d55",
   "metadata": {},
   "outputs": [],
   "source": [
    "uci.plot()"
   ]
  },
  {
   "cell_type": "code",
   "execution_count": null,
   "id": "9c504369-a70c-4e1d-852f-b1c57e37ac86",
   "metadata": {},
   "outputs": [],
   "source": [
    "# Calculate structural parameters from the atomic positions:\n",
    "# 1. define property in a function, 2. call get_position_func_image\n",
    "\n",
    "def polar_motion_x(pos):\n",
    "    A1,A2,A3,A4,B=pos\n",
    "    return A3[0]-A1[0]\n",
    "\n",
    "def polar_motion_y(pos):\n",
    "    A1,A2,A3,A4,B=pos\n",
    "    return A2[1]-A1[1]\n",
    "\n",
    "plt.clf()\n",
    "plt.subplot(121)\n",
    "pmx = uci.get_position_func_image(polar_motion_x)\n",
    "plt.imshow(pmx)\n",
    "\n",
    "plt.subplot(122)\n",
    "pmy = uci.get_position_func_image(polar_motion_y)\n",
    "plt.imshow(pmy)"
   ]
  },
  {
   "cell_type": "code",
   "execution_count": 39,
   "id": "c036d441-2451-4919-95eb-17986dafbbeb",
   "metadata": {},
   "outputs": [
    {
     "name": "stdin",
     "output_type": "stream",
     "text": [
      "Overwrite 'C:\\Users\\torruell\\Documents\\GitHub\\ucsplit\\ucsplit\\uci.hspy' (y/n)?\n",
      " y\n"
     ]
    }
   ],
   "source": [
    "#load and save:\n",
    "uci.save(\"uci\")\n",
    "uci2 = uc.load(\"uci.hspy\")"
   ]
  },
  {
   "cell_type": "code",
   "execution_count": null,
   "id": "2ff5db81-fcc1-4599-9c28-f372f458470f",
   "metadata": {},
   "outputs": [],
   "source": [
    "#Hyperspy decompositon,clustering etc can be used"
   ]
  },
  {
   "cell_type": "code",
   "execution_count": null,
   "id": "454548ae-8fc3-458d-9335-f04a38f88823",
   "metadata": {},
   "outputs": [],
   "source": [
    "uci2.cluster_analysis(\"signal\",preprocessing=\"norm\",algorithm=\"minibatchkmeans\",n_clusters=3)"
   ]
  },
  {
   "cell_type": "code",
   "execution_count": null,
   "id": "54dc5dd6-cee2-47dd-a8c6-5e02c5868004",
   "metadata": {},
   "outputs": [],
   "source": [
    "uci2.plot_cluster_signals()"
   ]
  },
  {
   "cell_type": "code",
   "execution_count": null,
   "id": "59f99867-2e1e-47e7-823f-7cdef2f7e4bc",
   "metadata": {},
   "outputs": [],
   "source": [
    "uci2.plot_cluster_labels()"
   ]
  },
  {
   "cell_type": "code",
   "execution_count": null,
   "id": "108f760c-46d0-472d-a686-2ae8b293c8dd",
   "metadata": {},
   "outputs": [],
   "source": [
    "plt.clf()\n",
    "plt.plot(pmx.mean(1))"
   ]
  },
  {
   "cell_type": "code",
   "execution_count": 66,
   "id": "97264134-31ce-4185-9bd1-f0ae1457b84c",
   "metadata": {},
   "outputs": [
    {
     "name": "stdout",
     "output_type": "stream",
     "text": [
      "Decomposition info:\n",
      "  normalize_poissonian_noise=False\n",
      "  algorithm=SVD\n",
      "  output_dimension=None\n",
      "  centre=None\n"
     ]
    }
   ],
   "source": [
    "uci2.decomposition()"
   ]
  },
  {
   "cell_type": "code",
   "execution_count": 67,
   "id": "04930453-2635-4d6d-ba56-634fc3e23b34",
   "metadata": {},
   "outputs": [
    {
     "data": {
      "text/plain": [
       "<Axes: title={'center': '\\nPCA Scree Plot'}, xlabel='Principal component index', ylabel='Proportion of variance'>"
      ]
     },
     "execution_count": 67,
     "metadata": {},
     "output_type": "execute_result"
    }
   ],
   "source": [
    "uci2.plot_explained_variance_ratio()"
   ]
  },
  {
   "cell_type": "code",
   "execution_count": 78,
   "id": "a3439487-5349-46b5-86db-f461bd11c3f4",
   "metadata": {},
   "outputs": [],
   "source": [
    "uci_clean = uc.UnitCellImage(s,data=uci2.get_decomposition_model(12).data,uc_centers_matrix=uci.uc_centers_matrix)\n",
    "uci_clean2 = uc.UnitCellImage(s,data=uci2.get_decomposition_model(40).data,uc_centers_matrix=uci.uc_centers_matrix)\n",
    "uci_clean3 = uc.UnitCellImage(s,data=uci2.get_decomposition_model(129).data,uc_centers_matrix=uci.uc_centers_matrix)"
   ]
  },
  {
   "cell_type": "code",
   "execution_count": 83,
   "id": "43047526-ea51-4843-b796-860b91f1ef5c",
   "metadata": {},
   "outputs": [],
   "source": [
    "\n",
    "#rebuild denoised data\n",
    "ns = np.zeros_like(s.data)\n",
    "ps = uci.uc_centers_matrix\n",
    "\n",
    "sx,sy,_ = ps.shape\n",
    "\n",
    "plt.clf()\n",
    "ax=plt.subplot(221)\n",
    "plt.imshow(s.data,vmin=s.data.min(),vmax=s.data.max())\n",
    "for i in range(sx):\n",
    "    for j in range(sy):\n",
    "        ns[uci._uc_slicers[(i,j)]]=uci_clean.data[i,j]\n",
    "        \n",
    "ax1=plt.subplot(222)\n",
    "plt.imshow(ns,vmin=s.data.min(),vmax=s.data.max())\n",
    "\n",
    "for i in range(sx):\n",
    "    for j in range(sy):\n",
    "        ns[uci._uc_slicers[(i,j)]]=uci_clean2.data[i,j]\n",
    "        \n",
    "ax2=plt.subplot(223)\n",
    "plt.imshow(ns,vmin=s.data.min(),vmax=s.data.max())\n",
    "\n",
    "for i in range(sx):\n",
    "    for j in range(sy):\n",
    "        ns[uci._uc_slicers[(i,j)]]=uci_clean3.data[i,j]\n",
    "        \n",
    "ax3=plt.subplot(224)\n",
    "plt.imshow(ns,vmin=s.data.min(),vmax=s.data.max())\n",
    "\n",
    "\n",
    "for a in [ax,ax1,ax2,ax3]:\n",
    "    a.set_ylim(300,350)\n",
    "    a.set_xlim(300,350)\n",
    "    a.set_xticks([])\n",
    "    a.set_yticks([])\n",
    "\n",
    "plt.tight_layout()"
   ]
  },
  {
   "cell_type": "code",
   "execution_count": null,
   "id": "6ca62a8d-1055-4fe6-b98c-209262cf1632",
   "metadata": {},
   "outputs": [],
   "source": []
  },
  {
   "cell_type": "code",
   "execution_count": null,
   "id": "ce336cc6-707b-4651-8a28-5371a61766f7",
   "metadata": {},
   "outputs": [],
   "source": []
  },
  {
   "cell_type": "code",
   "execution_count": null,
   "id": "dd929516-01f9-4eb9-a4a0-bef5f2013eea",
   "metadata": {},
   "outputs": [],
   "source": []
  },
  {
   "cell_type": "code",
   "execution_count": null,
   "id": "9381fd37-f3e0-4c8d-82ec-0e7bcf8920d1",
   "metadata": {},
   "outputs": [],
   "source": []
  },
  {
   "cell_type": "code",
   "execution_count": null,
   "id": "22e93251-0b0d-4238-a2c5-6d71e146c6cd",
   "metadata": {},
   "outputs": [],
   "source": []
  },
  {
   "cell_type": "code",
   "execution_count": null,
   "id": "0335d914-20d7-4ec9-81a3-24af69034488",
   "metadata": {},
   "outputs": [],
   "source": []
  }
 ],
 "metadata": {
  "kernelspec": {
   "display_name": "Python 3 (ipykernel)",
   "language": "python",
   "name": "python3"
  },
  "language_info": {
   "codemirror_mode": {
    "name": "ipython",
    "version": 3
   },
   "file_extension": ".py",
   "mimetype": "text/x-python",
   "name": "python",
   "nbconvert_exporter": "python",
   "pygments_lexer": "ipython3",
   "version": "3.11.7"
  }
 },
 "nbformat": 4,
 "nbformat_minor": 5
}
